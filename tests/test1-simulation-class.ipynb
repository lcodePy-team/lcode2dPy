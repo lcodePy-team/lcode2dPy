{
 "cells": [
  {
   "attachments": {},
   "cell_type": "markdown",
   "metadata": {},
   "source": [
    "## LcodePy 3D"
   ]
  },
  {
   "cell_type": "code",
   "execution_count": null,
   "metadata": {},
   "outputs": [],
   "source": [
    "import warnings\n",
    "warnings.filterwarnings('ignore', '.*Grid size.*', )"
   ]
  },
  {
   "cell_type": "code",
   "execution_count": null,
   "metadata": {},
   "outputs": [],
   "source": [
    "# Import required modules\n",
    "from lcode.simulation import Simulation\n",
    "\n",
    "# Set some parameters of the config:\n",
    "config = {\n",
    "    'geometry': '3d',\n",
    "    'processing-unit-type': 'cpu',\n",
    "    \n",
    "    'window-width-step-size': 0.02,\n",
    "    'window-width': 16,\n",
    "\n",
    "    'window-length': 1,\n",
    "    'xi-step': 0.02,\n",
    "\n",
    "    'time-limit': 1,\n",
    "    'time-step': 1,\n",
    "\n",
    "    'plasma-particles-per-cell': 4,\n",
    "}\n",
    "\n",
    "# Set beam parameters\n",
    "from math import pi\n",
    "\n",
    "beam_parameters = {'current': 0.01 * (2*pi), 'particles_in_layer': 5000}\n",
    "\n",
    "# Set diagnostics\n",
    "diag = []"
   ]
  },
  {
   "cell_type": "code",
   "execution_count": null,
   "metadata": {},
   "outputs": [],
   "source": [
    "sim = Simulation(config=config, diagnostics=diag,\n",
    "                 beam_parameters=beam_parameters)"
   ]
  },
  {
   "cell_type": "code",
   "execution_count": null,
   "metadata": {},
   "outputs": [],
   "source": [
    "sim.step()"
   ]
  },
  {
   "attachments": {},
   "cell_type": "markdown",
   "metadata": {},
   "source": [
    "## LcodePy 2D"
   ]
  },
  {
   "cell_type": "code",
   "execution_count": null,
   "metadata": {},
   "outputs": [],
   "source": [
    "# Import required modules\n",
    "from lcode.simulation import Simulation\n",
    "\n",
    "# Set some parameters of the config:\n",
    "config = {\n",
    "    'geometry': '2d',\n",
    "    'processing-unit-type': 'cpu',\n",
    "    \n",
    "    'window-width-step-size': 0.02,\n",
    "    'window-width': 16,\n",
    "\n",
    "    'window-length': 1,\n",
    "    'xi-step': 0.02,\n",
    "\n",
    "    'time-limit': 1,\n",
    "    'time-step': 1,\n",
    "\n",
    "    'plasma-particles-per-cell': 4,\n",
    "}\n",
    "\n",
    "# Set beam parameters\n",
    "from math import pi\n",
    "\n",
    "beam_parameters = {'current': 0.01, 'particles_in_layer': 1000}\n",
    "\n",
    "# Set diagnostics\n",
    "diag = []"
   ]
  },
  {
   "cell_type": "code",
   "execution_count": null,
   "metadata": {},
   "outputs": [],
   "source": [
    "sim = Simulation(config=config, diagnostics=diag,\n",
    "                 beam_parameters=beam_parameters)"
   ]
  },
  {
   "cell_type": "code",
   "execution_count": null,
   "metadata": {},
   "outputs": [],
   "source": [
    "sim.step()"
   ]
  },
  {
   "cell_type": "code",
   "execution_count": null,
   "metadata": {},
   "outputs": [],
   "source": []
  },
  {
   "cell_type": "markdown",
   "metadata": {},
   "source": [
    "## LcodePy 3D with GPU"
   ]
  },
  {
   "cell_type": "code",
   "execution_count": null,
   "metadata": {},
   "outputs": [],
   "source": [
    "# Import required modules\n",
    "from lcode.simulation import Simulation\n",
    "\n",
    "# Set some parameters of the config:\n",
    "config = {\n",
    "    'geometry': '3d',\n",
    "    'processing-unit-type': 'gpu',\n",
    "    \n",
    "    'window-width-step-size': 0.02,\n",
    "    'window-width': 16,\n",
    "\n",
    "    'window-length': 1,\n",
    "    'xi-step': 0.02,\n",
    "\n",
    "    'time-limit': 1,\n",
    "    'time-step': 1,\n",
    "\n",
    "    'plasma-particles-per-cell': 4,\n",
    "}\n",
    "\n",
    "# Set beam parameters\n",
    "from math import pi\n",
    "\n",
    "beam_parameters = {'current': 0.01 * (2*pi), 'particles_in_layer': 5000}\n",
    "\n",
    "# Set diagnostics\n",
    "diag = []\n",
    "sim = Simulation(config=config, diagnostics=diag,\n",
    "                 beam_parameters=beam_parameters)"
   ]
  },
  {
   "cell_type": "code",
   "execution_count": null,
   "metadata": {},
   "outputs": [],
   "source": [
    "sim.step()"
   ]
  }
 ],
 "metadata": {
  "kernelspec": {
   "display_name": "base",
   "language": "python",
   "name": "python3"
  },
  "language_info": {
   "codemirror_mode": {
    "name": "ipython",
    "version": 3
   },
   "file_extension": ".py",
   "mimetype": "text/x-python",
   "name": "python",
   "nbconvert_exporter": "python",
   "pygments_lexer": "ipython3",
   "version": "3.11.2"
  },
  "orig_nbformat": 4,
  "vscode": {
   "interpreter": {
    "hash": "52f1a141aa8a7a23d41eee701d40af8218b46149495cf8dd4c4bd12bcb554499"
   }
  }
 },
 "nbformat": 4,
 "nbformat_minor": 2
}
