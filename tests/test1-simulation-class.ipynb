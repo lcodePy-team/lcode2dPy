{
 "cells": [
  {
   "attachments": {},
   "cell_type": "markdown",
   "metadata": {},
   "source": [
    "## LcodePy 3D"
   ]
  },
  {
   "cell_type": "code",
   "execution_count": 1,
   "metadata": {},
   "outputs": [],
   "source": [
    "import warnings\n",
    "warnings.filterwarnings('ignore', '.*Grid size.*', )"
   ]
  },
  {
   "cell_type": "code",
   "execution_count": 3,
   "metadata": {},
   "outputs": [],
   "source": [
    "# Import required modules\n",
    "from lcode.simulation import Simulation\n",
    "\n",
    "# Set some parameters of the config:\n",
    "config = {\n",
    "    'geometry': '3d',\n",
    "    'processing-unit-type': 'cpu',\n",
    "    \n",
    "    'window-width-step-size': 0.02,\n",
    "    'window-width': 16,\n",
    "\n",
    "    'window-length': 1,\n",
    "    'xi-step': 0.02,\n",
    "\n",
    "    'time-limit': 1,\n",
    "    'time-step': 1,\n",
    "\n",
    "    'plasma-particles-per-cell': 4,\n",
    "}\n",
    "\n",
    "# Set beam parameters\n",
    "from math import pi\n",
    "\n",
    "beam_parameters = {'current': 0.01 * (2*pi), 'particles_in_layer': 5000}\n",
    "\n",
    "# Set diagnostics\n",
    "diag = []"
   ]
  },
  {
   "cell_type": "code",
   "execution_count": 4,
   "metadata": {},
   "outputs": [],
   "source": [
    "sim = Simulation(config=config, diagnostics=diag,\n",
    "                 beam_parameters=beam_parameters)"
   ]
  },
  {
   "cell_type": "code",
   "execution_count": 5,
   "metadata": {},
   "outputs": [
    {
     "name": "stdout",
     "output_type": "stream",
     "text": [
      "Since the number of time steps hasn't been set explicitly, the code will simulate 1 time steps with a time step size = 1.0.\n"
     ]
    },
    {
     "name": "stderr",
     "output_type": "stream",
     "text": [
      "c:\\users\\nikita\\desktop\\lcodepy\\lcode\\plasma3d\\initialization.py:64: RuntimeWarning: divide by zero encountered in divide\n",
      "  mul = 1 / (lambda_i + lambda_j)  # WARNING: zero division in mul[0, 0]!\n"
     ]
    },
    {
     "name": "stdout",
     "output_type": "stream",
     "text": [
      "t=+1.0000, xi=+0.0000 Ez=-0.0000000000000000e+00\n",
      "t=+1.0000, xi=-0.0200 Ez=-1.1972329653481407e-07\n",
      "t=+1.0000, xi=-0.0400 Ez=-4.3811942928014974e-07\n",
      "t=+1.0000, xi=-0.0600 Ez=-1.0586872097973678e-06\n",
      "t=+1.0000, xi=-0.0800 Ez=-2.7046872270530929e-06\n",
      "t=+1.0000, xi=-0.1000 Ez=-5.9728934587043373e-06\n",
      "t=+1.0000, xi=-0.1200 Ez=-1.0370681230361147e-05\n",
      "t=+1.0000, xi=-0.1400 Ez=-1.6218317274622014e-05\n",
      "t=+1.0000, xi=-0.1600 Ez=-2.4292691223571488e-05\n",
      "t=+1.0000, xi=-0.1800 Ez=-3.4727465239726594e-05\n",
      "t=+1.0000, xi=-0.2000 Ez=-4.7553415507821885e-05\n",
      "t=+1.0000, xi=-0.2200 Ez=-6.3166466411202898e-05\n",
      "t=+1.0000, xi=-0.2400 Ez=-8.1898484944367439e-05\n",
      "t=+1.0000, xi=-0.2600 Ez=-1.0405516104671427e-04\n",
      "t=+1.0000, xi=-0.2800 Ez=-1.3008190741459571e-04\n",
      "t=+1.0000, xi=-0.3000 Ez=-1.5981210873452413e-04\n",
      "t=+1.0000, xi=-0.3200 Ez=-1.9413781767147446e-04\n",
      "t=+1.0000, xi=-0.3400 Ez=-2.3473566868593363e-04\n",
      "t=+1.0000, xi=-0.3600 Ez=-2.8111389617620924e-04\n",
      "t=+1.0000, xi=-0.3800 Ez=-3.3090079411502891e-04\n",
      "t=+1.0000, xi=-0.4000 Ez=-3.8349830401211314e-04\n",
      "t=+1.0000, xi=-0.4200 Ez=-4.4143508559770270e-04\n",
      "t=+1.0000, xi=-0.4400 Ez=-5.0735002139870458e-04\n",
      "t=+1.0000, xi=-0.4600 Ez=-5.7995697361914816e-04\n",
      "t=+1.0000, xi=-0.4800 Ez=-6.5668202632678831e-04\n",
      "t=+1.0000, xi=-0.5000 Ez=-7.3779769014582959e-04\n",
      "t=+1.0000, xi=-0.5200 Ez=-8.2531902651406365e-04\n",
      "t=+1.0000, xi=-0.5400 Ez=-9.2104840212883484e-04\n",
      "t=+1.0000, xi=-0.5600 Ez=-1.0243483886560761e-03\n",
      "t=+1.0000, xi=-0.5800 Ez=-1.1367315431571740e-03\n",
      "t=+1.0000, xi=-0.6000 Ez=-1.2563704697307575e-03\n",
      "t=+1.0000, xi=-0.6200 Ez=-1.3811554143907580e-03\n",
      "t=+1.0000, xi=-0.6400 Ez=-1.5122105222573914e-03\n",
      "t=+1.0000, xi=-0.6600 Ez=-1.6516542080863390e-03\n",
      "t=+1.0000, xi=-0.6800 Ez=-1.8008043971092270e-03\n",
      "t=+1.0000, xi=-0.7000 Ez=-1.9574716224562676e-03\n",
      "t=+1.0000, xi=-0.7200 Ez=-2.1241199091649862e-03\n",
      "t=+1.0000, xi=-0.7400 Ez=-2.2993549935964577e-03\n",
      "t=+1.0000, xi=-0.7600 Ez=-2.4807445977962240e-03\n",
      "t=+1.0000, xi=-0.7800 Ez=-2.6702458501209458e-03\n",
      "t=+1.0000, xi=-0.8000 Ez=-2.8686813739855540e-03\n",
      "t=+1.0000, xi=-0.8200 Ez=-3.0762398389274012e-03\n",
      "t=+1.0000, xi=-0.8400 Ez=-3.2932786482993363e-03\n",
      "t=+1.0000, xi=-0.8600 Ez=-3.5181864549630993e-03\n",
      "t=+1.0000, xi=-0.8800 Ez=-3.7485732042948066e-03\n",
      "t=+1.0000, xi=-0.9000 Ez=-3.9884786189457013e-03\n",
      "t=+1.0000, xi=-0.9200 Ez=-4.2386595445052279e-03\n",
      "t=+1.0000, xi=-0.9400 Ez=-4.4958932552205608e-03\n",
      "t=+1.0000, xi=-0.9600 Ez=-4.7603116703843224e-03\n",
      "t=+1.0000, xi=-0.9800 Ez=-5.0371715729231100e-03\n",
      "t=+1.0000, xi=-1.0000 Ez=-5.3241284033235074e-03\n",
      "The work is done!\n"
     ]
    }
   ],
   "source": [
    "sim.step()"
   ]
  },
  {
   "attachments": {},
   "cell_type": "markdown",
   "metadata": {},
   "source": [
    "## LcodePy 2D"
   ]
  },
  {
   "cell_type": "code",
   "execution_count": 6,
   "metadata": {},
   "outputs": [],
   "source": [
    "# Import required modules\n",
    "from lcode.simulation import Simulation\n",
    "\n",
    "# Set some parameters of the config:\n",
    "config = {\n",
    "    'geometry': '2d',\n",
    "    'processing-unit-type': 'cpu',\n",
    "    \n",
    "    'window-width-step-size': 0.02,\n",
    "    'window-width': 16,\n",
    "\n",
    "    'window-length': 1,\n",
    "    'xi-step': 0.02,\n",
    "\n",
    "    'time-limit': 1,\n",
    "    'time-step': 1,\n",
    "\n",
    "    'plasma-particles-per-cell': 4,\n",
    "}\n",
    "\n",
    "# Set beam parameters\n",
    "from math import pi\n",
    "\n",
    "beam_parameters = {'current': 0.01, 'particles_in_layer': 1000}\n",
    "\n",
    "# Set diagnostics\n",
    "diag = []"
   ]
  },
  {
   "cell_type": "code",
   "execution_count": 7,
   "metadata": {},
   "outputs": [],
   "source": [
    "sim = Simulation(config=config, diagnostics=diag,\n",
    "                 beam_parameters=beam_parameters)"
   ]
  },
  {
   "cell_type": "code",
   "execution_count": 8,
   "metadata": {},
   "outputs": [
    {
     "name": "stdout",
     "output_type": "stream",
     "text": [
      "Since the number of time steps hasn't been set explicitly, the code will simulate 1 time steps with a time step size = 1.0.\n",
      "t=+1.0000, xi=+0.0000 Ez=-5.6429440994169210e-12\n",
      "t=+1.0000, xi=-0.0200 Ez=-2.2382701987172398e-08\n",
      "t=+1.0000, xi=-0.0400 Ez=-3.5972485905719356e-07\n",
      "t=+1.0000, xi=-0.0600 Ez=-1.2663912614577714e-06\n",
      "t=+1.0000, xi=-0.0800 Ez=-3.1592739651444148e-06\n",
      "t=+1.0000, xi=-0.1000 Ez=-6.6506249906855992e-06\n",
      "t=+1.0000, xi=-0.1200 Ez=-1.0577791909339786e-05\n",
      "t=+1.0000, xi=-0.1400 Ez=-1.6054948049213376e-05\n",
      "t=+1.0000, xi=-0.1600 Ez=-2.4871225796169756e-05\n",
      "t=+1.0000, xi=-0.1800 Ez=-3.6103443977707215e-05\n",
      "t=+1.0000, xi=-0.2000 Ez=-4.9983843625352626e-05\n",
      "t=+1.0000, xi=-0.2200 Ez=-6.5517646281388733e-05\n",
      "t=+1.0000, xi=-0.2400 Ez=-8.3999899754339170e-05\n",
      "t=+1.0000, xi=-0.2600 Ez=-1.0687338102047641e-04\n",
      "t=+1.0000, xi=-0.2800 Ez=-1.3333125799975011e-04\n",
      "t=+1.0000, xi=-0.3000 Ez=-1.6502604981953576e-04\n",
      "t=+1.0000, xi=-0.3200 Ez=-1.9992341157476959e-04\n",
      "t=+1.0000, xi=-0.3400 Ez=-2.3866472730419449e-04\n",
      "t=+1.0000, xi=-0.3600 Ez=-2.8337597869844313e-04\n",
      "t=+1.0000, xi=-0.3800 Ez=-3.3232687007325875e-04\n",
      "t=+1.0000, xi=-0.4000 Ez=-3.8489618424805005e-04\n",
      "t=+1.0000, xi=-0.4200 Ez=-4.4264643012116095e-04\n",
      "t=+1.0000, xi=-0.4400 Ez=-5.0510092513749892e-04\n",
      "t=+1.0000, xi=-0.4600 Ez=-5.7252191810677516e-04\n",
      "t=+1.0000, xi=-0.4800 Ez=-6.4914205714946681e-04\n",
      "t=+1.0000, xi=-0.5000 Ez=-7.3105379650622389e-04\n",
      "t=+1.0000, xi=-0.5200 Ez=-8.1913708472023024e-04\n",
      "t=+1.0000, xi=-0.5400 Ez=-9.1526140209803760e-04\n",
      "t=+1.0000, xi=-0.5600 Ez=-1.0169434392590117e-03\n",
      "t=+1.0000, xi=-0.5800 Ez=-1.1293274327697136e-03\n",
      "t=+1.0000, xi=-0.6000 Ez=-1.2523059925349767e-03\n",
      "t=+1.0000, xi=-0.6200 Ez=-1.3786798423297117e-03\n",
      "t=+1.0000, xi=-0.6400 Ez=-1.5130473316280408e-03\n",
      "t=+1.0000, xi=-0.6600 Ez=-1.6546461353654214e-03\n",
      "t=+1.0000, xi=-0.6800 Ez=-1.7992730183881483e-03\n",
      "t=+1.0000, xi=-0.7000 Ez=-1.9534772111278065e-03\n",
      "t=+1.0000, xi=-0.7200 Ez=-2.1151147000424654e-03\n",
      "t=+1.0000, xi=-0.7400 Ez=-2.2842336710501027e-03\n",
      "t=+1.0000, xi=-0.7600 Ez=-2.4605103815910196e-03\n",
      "t=+1.0000, xi=-0.7800 Ez=-2.6467297460082287e-03\n",
      "t=+1.0000, xi=-0.8000 Ez=-2.8471357654311987e-03\n",
      "t=+1.0000, xi=-0.8200 Ez=-3.0578900054569948e-03\n",
      "t=+1.0000, xi=-0.8400 Ez=-3.2804388183919333e-03\n",
      "t=+1.0000, xi=-0.8600 Ez=-3.5113157052625811e-03\n",
      "t=+1.0000, xi=-0.8800 Ez=-3.7467335645774143e-03\n",
      "t=+1.0000, xi=-0.9000 Ez=-3.9887837566726959e-03\n",
      "t=+1.0000, xi=-0.9200 Ez=-4.2360888991434401e-03\n",
      "t=+1.0000, xi=-0.9400 Ez=-4.4982139375923024e-03\n",
      "t=+1.0000, xi=-0.9600 Ez=-4.7655030113959726e-03\n",
      "t=+1.0000, xi=-0.9800 Ez=-5.0393125010330950e-03\n",
      "t=+1.0000, xi=-1.0000 Ez=-5.3271216390387835e-03\n",
      "The work is done!\n"
     ]
    }
   ],
   "source": [
    "sim.step()"
   ]
  },
  {
   "cell_type": "code",
   "execution_count": null,
   "metadata": {},
   "outputs": [],
   "source": []
  }
 ],
 "metadata": {
  "kernelspec": {
   "display_name": "base",
   "language": "python",
   "name": "python3"
  },
  "language_info": {
   "codemirror_mode": {
    "name": "ipython",
    "version": 3
   },
   "file_extension": ".py",
   "mimetype": "text/x-python",
   "name": "python",
   "nbconvert_exporter": "python",
   "pygments_lexer": "ipython3",
   "version": "3.9.13"
  },
  "orig_nbformat": 4,
  "vscode": {
   "interpreter": {
    "hash": "52f1a141aa8a7a23d41eee701d40af8218b46149495cf8dd4c4bd12bcb554499"
   }
  }
 },
 "nbformat": 4,
 "nbformat_minor": 2
}
