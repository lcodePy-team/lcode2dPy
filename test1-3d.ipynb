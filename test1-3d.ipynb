{
 "cells": [
  {
   "cell_type": "code",
   "execution_count": 1,
   "metadata": {},
   "outputs": [],
   "source": [
    "# Import required modules\n",
    "from copy import copy\n",
    "\n",
    "import numpy as np\n",
    "import time\n",
    "\n",
    "from lcode2dPy.plasma3d.initialization import init_plasma\n",
    "from lcode2dPy.plasma3d.solver import Plane2d3vPlasmaSolver \n",
    "\n",
    "from lcode2dPy.config.default_config import default_config"
   ]
  },
  {
   "cell_type": "code",
   "execution_count": 2,
   "metadata": {},
   "outputs": [],
   "source": [
    "# Create a config\n",
    "config = copy(default_config)\n",
    "\n",
    "config.set('geometry', '3d')\n",
    "\n",
    "config.set('window-width-step-size', 0.02)\n",
    "config.set('window-width', 15.38)\n",
    "\n",
    "config.set('window-length', 3000)\n",
    "config.set('xi-step', 0.02)\n",
    "\n",
    "# Make ready a plasma solver\n",
    "solver = Plane2d3vPlasmaSolver(config)"
   ]
  },
  {
   "cell_type": "code",
   "execution_count": 3,
   "metadata": {},
   "outputs": [],
   "source": [
    "# Create a transversal grid and a beam charge distribution\n",
    "grid_steps     = config.getint('window-width-steps')\n",
    "grid_step_size = config.getfloat('window-width-step-size')\n",
    "\n",
    "grid = ((np.arange(grid_steps) - grid_steps // 2)\n",
    "        * grid_step_size)\n",
    "xs, ys = grid[:, None], grid[None, :]\n",
    "\n",
    "def rho_b(xi):\n",
    "    COMPRESS, BOOST, SIGMA, SHIFT = 1, 1, 1, 0\n",
    "    if xi < -2 * np.sqrt(2 * np.pi) / COMPRESS:\n",
    "        return 0.\n",
    "        # return np.zeros_like(xs)\n",
    "    r = np.sqrt(xs**2 + (ys - SHIFT)**2)\n",
    "    return (.05 * BOOST * np.exp(-.5 * (r / SIGMA)**2) *\n",
    "            (1 - np.cos(xi * COMPRESS * np.sqrt(np.pi / 2))))"
   ]
  },
  {
   "cell_type": "code",
   "execution_count": 4,
   "metadata": {},
   "outputs": [
    {
     "name": "stdout",
     "output_type": "stream",
     "text": [
      "xi=+0.0000 +0.0000e+00\n",
      "xi=+0.0200 -1.4490e-07\n"
     ]
    }
   ],
   "source": [
    "# Create the first plasma slice\n",
    "fields, particles, currents, const_arrays = init_plasma(config)\n",
    "\n",
    "# Simulation loop:\n",
    "start_time = time.time()\n",
    "xi_step_size = config.getfloat('xi-step')\n",
    "xi_steps = int(config.getfloat('window-length') / xi_step_size)\n",
    "ez = []\n",
    "\n",
    "for xi_i in range(xi_steps):\n",
    "    xi = xi_i * xi_step_size\n",
    "    \n",
    "    rho_b_ = rho_b(xi)\n",
    "    particles, fields, currents = solver.step_dxi(particles, fields, currents, \n",
    "                                                  const_arrays, rho_b_)\n",
    "\n",
    "    ez.append(fields.E_z[grid_steps // 2, grid_steps // 2])\n",
    "    print(f'xi={xi:+.4f} {ez[-1]:+.4e}')\n",
    "    \n",
    "print(\"--- %s seconds ---\" % (time.time() - start_time))"
   ]
  },
  {
   "cell_type": "code",
   "execution_count": 11,
   "metadata": {},
   "outputs": [],
   "source": [
    "# Should work correctly. Compare results with:\n",
    "# xi         Ez_00\n",
    "# xi=+0.0000 +0.0000e+00\n",
    "# xi=+0.0200 -1.4490e-07\n",
    "# xi=+0.0400 -7.2443e-07\n",
    "# xi=+0.0600 -2.0278e-06\n",
    "# xi=+0.0800 -4.3436e-06\n",
    "# xi=+0.1000 -7.9592e-06\n",
    "# xi=+0.1200 -1.3161e-05\n",
    "# xi=+0.1400 -2.0233e-05\n",
    "# xi=+0.1600 -2.9458e-05\n",
    "# xi=+0.1800 -4.1116e-05\n",
    "# xi=+0.2000 -5.5486e-05\n",
    "# xi=+0.2200 -7.2842e-05\n",
    "# xi=+0.2400 -9.3456e-05\n",
    "# xi=+0.2600 -1.1760e-04\n",
    "# xi=+0.2800 -1.4553e-04\n",
    "# xi=+0.3000 -1.7751e-04\n",
    "# xi=+0.3200 -2.1381e-04\n",
    "# xi=+0.3400 -2.5467e-04\n",
    "# xi=+0.3600 -3.0033e-04\n",
    "# xi=+0.3800 -3.5105e-04\n",
    "# xi=+0.4000 -4.0706e-04\n",
    "# xi=+0.4200 -4.6859e-04\n",
    "# xi=+0.4400 -5.3587e-04\n",
    "# xi=+0.4600 -6.0912e-04\n",
    "# xi=+0.4800 -6.8855e-04\n",
    "# xi=+0.5000 -7.7437e-04"
   ]
  },
  {
   "cell_type": "code",
   "execution_count": null,
   "metadata": {},
   "outputs": [],
   "source": []
  }
 ],
 "metadata": {
  "interpreter": {
   "hash": "3fb5458fe45dbfab5b841dcbb1c7b4cb9cdead0fb08c7a1d7836db16a68cca46"
  },
  "kernelspec": {
   "display_name": "Python 3.8.8 64-bit ('base': conda)",
   "name": "python3"
  },
  "language_info": {
   "codemirror_mode": {
    "name": "ipython",
    "version": 3
   },
   "file_extension": ".py",
   "mimetype": "text/x-python",
   "name": "python",
   "nbconvert_exporter": "python",
   "pygments_lexer": "ipython3",
   "version": "3.8.8"
  },
  "orig_nbformat": 2
 },
 "nbformat": 4,
 "nbformat_minor": 2
}
