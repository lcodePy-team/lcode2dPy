{
 "cells": [
  {
   "cell_type": "code",
   "execution_count": 1,
   "metadata": {
    "Collapsed": "false"
   },
   "outputs": [],
   "source": [
    "from lcode2dPy.simulation.interface import Simulation\n",
    "from lcode2dPy.diagnostics.targets import BeamDiagnostics, PlasmaDiagnostics\n",
    "from lcode2dPy.config.default_config import default_config\n",
    "from lcode2dPy.beam.beam_generator import make_beam, Gauss, rGauss\n",
    "import numpy as np\n",
    "import matplotlib.pyplot as plt\n",
    "import subprocess"
   ]
  },
  {
   "cell_type": "code",
   "execution_count": 2,
   "metadata": {
    "Collapsed": "false"
   },
   "outputs": [],
   "source": [
    "# Параметры\n",
    "\n",
    "time_step       = 200\n",
    "time_limit      = 200.5\n",
    "window_length   = 0.2\n",
    "window_width    = 2\n",
    "r_step          = 0.05\n",
    "xi_step         = 0.05"
   ]
  },
  {
   "cell_type": "code",
   "execution_count": 3,
   "metadata": {
    "Collapsed": "false"
   },
   "outputs": [],
   "source": [
    "!rm ../c_code/*"
   ]
  },
  {
   "cell_type": "code",
   "execution_count": 4,
   "metadata": {
    "Collapsed": "false"
   },
   "outputs": [],
   "source": [
    "# Config\n",
    "config = default_config\n",
    "config.set('time-step', time_step)\n",
    "config.set('time-limit', time_limit)\n",
    "config.set('window-length', window_length)\n",
    "config.set('window-width', window_width)\n",
    "config.set('window-width-step-size', r_step)\n",
    "config.set('xi-step', xi_step)\n",
    "\n",
    "# Beam\n",
    "gamma = 426\n",
    "angspread = 1e-5\n",
    "m_proton = 958/0.51\n",
    "\n",
    "beam_pars = dict(xi_distr=Gauss(sigma=100, vmin=-window_length, vmax=0),\n",
    "                r_distr=rGauss(vmin=0, vmax=window_width),\n",
    "                ang_distr=Gauss(sigma=angspread, vmin=None, vmax=None),\n",
    "                pz_distr=Gauss(gamma*m_proton, gamma*m_proton*1e-4, vmin=None, vmax=None),\n",
    "                Ipeak_kA=2*40/1000,\n",
    "                q_m=1/m_proton,\n",
    "                saveto=\"../c_code\")\n",
    "\n",
    "diagnostics = [\n",
    "    BeamDiagnostics(period=time_limit//time_step * time_step),\n",
    "    PlasmaDiagnostics(period=time_limit//time_step * time_step)\n",
    "]\n",
    "\n",
    "sim = Simulation(beam_pars=beam_pars, diagnostics=diagnostics, config=config)"
   ]
  },
  {
   "cell_type": "code",
   "execution_count": 5,
   "metadata": {
    "Collapsed": "false"
   },
   "outputs": [
    {
     "name": "stdout",
     "output_type": "stream",
     "text": [
      "Number of particles: 10093\n",
      "Number of particles in the middle layer: 1261\n"
     ]
    }
   ],
   "source": [
    "sim.step(int(time_limit//time_step))"
   ]
  },
  {
   "cell_type": "code",
   "execution_count": 6,
   "metadata": {
    "Collapsed": "false"
   },
   "outputs": [
    {
     "data": {
      "text/plain": [
       "0"
      ]
     },
     "execution_count": 6,
     "metadata": {},
     "output_type": "execute_result"
    }
   ],
   "source": [
    "# Готовим C диагностики\n",
    "!rm ../c_code/*\n",
    "!cp beamfile.bin ../c_code/beamfile.bin\n",
    "config.c_config('../c_code/lcode.cfg')\n",
    "!echo 0 > ../c_code/beamfile.bit \n",
    "\n",
    "p = subprocess.Popen([\"/home/global/lcode/lcode\", \"lcode.cfg\"], cwd=\"../c_code\")\n",
    "p.wait()"
   ]
  },
  {
   "cell_type": "code",
   "execution_count": 7,
   "metadata": {
    "Collapsed": "false"
   },
   "outputs": [],
   "source": [
    "c_plasma=np.loadtxt('../c_code/00200.pls')\n",
    "xis = np.arange(-xi_step,-window_length,-xi_step)\n",
    "xis = np.unique(c_plasma.T[0])[::-1]\n",
    "c_rs = np.array([c_plasma[c_plasma.T[0]==xi].T[2] for xi in xis])\n",
    "plasma = diagnostics[1].data\n",
    "py_pls = plasma[time_step]\n",
    "py_rs = np.array([layer.r for layer in py_pls])"
   ]
  },
  {
   "cell_type": "code",
   "execution_count": 8,
   "metadata": {
    "Collapsed": "false"
   },
   "outputs": [
    {
     "data": {
      "text/plain": [
       "(0, 0.1)"
      ]
     },
     "execution_count": 8,
     "metadata": {},
     "output_type": "execute_result"
    },
    {
     "data": {
      "image/png": "[encoded data removed]",
      "text/plain": [
       "<Figure size 432x288 with 1 Axes>"
      ]
     },
     "metadata": {
      "needs_background": "light"
     },
     "output_type": "display_data"
    }
   ],
   "source": [
    "plt.plot(xis, c_rs);\n",
    "plt.ylim(0, 0.1)"
   ]
  },
  {
   "cell_type": "code",
   "execution_count": 9,
   "metadata": {
    "Collapsed": "false"
   },
   "outputs": [],
   "source": [
    "plt.plot(xis, py_rs);\n",
    "plt.ylim(0, 0.1)"
   ]
  },
  {
   "cell_type": "code",
   "execution_count": null,
   "metadata": {},
   "outputs": [
    {
     "ename": "Error",
     "evalue": "Kernel is dead",
     "output_type": "error",
     "traceback": [
      "Error: Kernel is dead",
      "at g._sendKernelShellControl (/home/okhotnikov/.vscode-server/extensions/ms-toolsai.jupyter-2021.9.1101343141/out/client/extension.js:52:1006305)",
      "at g.sendShellMessage (/home/okhotnikov/.vscode-server/extensions/ms-toolsai.jupyter-2021.9.1101343141/out/client/extension.js:52:1006074)",
      "at g.requestExecute (/home/okhotnikov/.vscode-server/extensions/ms-toolsai.jupyter-2021.9.1101343141/out/client/extension.js:52:1008616)",
      "at d.requestExecute (/home/okhotnikov/.vscode-server/extensions/ms-toolsai.jupyter-2021.9.1101343141/out/client/extension.js:37:328037)",
      "at S.requestExecute (/home/okhotnikov/.vscode-server/extensions/ms-toolsai.jupyter-2021.9.1101343141/out/client/extension.js:32:19306)",
      "at w.executeCodeCell (/home/okhotnikov/.vscode-server/extensions/ms-toolsai.jupyter-2021.9.1101343141/out/client/extension.js:52:300924)",
      "at w.execute (/home/okhotnikov/.vscode-server/extensions/ms-toolsai.jupyter-2021.9.1101343141/out/client/extension.js:52:300551)",
      "at w.start (/home/okhotnikov/.vscode-server/extensions/ms-toolsai.jupyter-2021.9.1101343141/out/client/extension.js:52:296215)",
      "at async t.CellExecutionQueue.executeQueuedCells (/home/okhotnikov/.vscode-server/extensions/ms-toolsai.jupyter-2021.9.1101343141/out/client/extension.js:52:310950)",
      "at async t.CellExecutionQueue.start (/home/okhotnikov/.vscode-server/extensions/ms-toolsai.jupyter-2021.9.1101343141/out/client/extension.js:52:310490)"
     ]
    }
   ],
   "source": [
    "diff = c_rs - py_rs\n",
    "plt.plot(xis, diff);"
   ]
  }
 ],
 "metadata": {
  "interpreter": {
   "hash": "40d3a090f54c6569ab1632332b64b2c03c39dcf918b08424e98f38b5ae0af88f"
  },
  "kernelspec": {
   "display_name": "Python 3.7.4 64-bit ('base': conda)",
   "name": "python3"
  },
  "language_info": {
   "codemirror_mode": {
    "name": "ipython",
    "version": 3
   },
   "file_extension": ".py",
   "mimetype": "text/x-python",
   "name": "python",
   "nbconvert_exporter": "python",
   "pygments_lexer": "ipython3",
   "version": "3.7.4"
  }
 },
 "nbformat": 4,
 "nbformat_minor": 4
}
