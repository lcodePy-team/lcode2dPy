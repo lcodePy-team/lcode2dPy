{
 "cells": [
  {
   "cell_type": "code",
   "execution_count": 1,
   "metadata": {},
   "outputs": [],
   "source": [
    "# Import required modules\n",
    "from copy import copy\n",
    "\n",
    "import numpy as np\n",
    "import time\n",
    "\n",
    "from lcode2dPy.plasma3d.initialization import init_plasma\n",
    "from lcode2dPy.push_solver_3d import PushAndSolver3d\n",
    "\n",
    "from lcode2dPy.beam3d import beam\n",
    "from lcode2dPy.beam3d.beam_generator import *\n",
    "\n",
    "from lcode2dPy.config.default_config import default_config"
   ]
  },
  {
   "cell_type": "code",
   "execution_count": 2,
   "metadata": {},
   "outputs": [],
   "source": [
    "# Create a config\n",
    "config = copy(default_config)\n",
    "\n",
    "config.set('geometry', '3d')\n",
    "\n",
    "config.set('window-width-step-size', 0.02)\n",
    "config.set('window-width', 10)\n",
    "\n",
    "config.set('window-length', 5)\n",
    "config.set('xi-step', 0.02)\n",
    "\n",
    "config.set('plasma-particles-per-cell', 4)\n",
    "\n",
    "config.set('time_limit', 100.5)\n",
    "config.set('time_step', 25)\n",
    "\n",
    "# Make ready a pusher-solver\n",
    "pusher_solver = PushAndSolver3d(config)"
   ]
  },
  {
   "cell_type": "code",
   "execution_count": 3,
   "metadata": {},
   "outputs": [
    {
     "name": "stdout",
     "output_type": "stream",
     "text": [
      "Number of particles: 125331\n",
      "Number of particles in the middle layer: 999\n"
     ]
    }
   ],
   "source": [
    "# Create a beam\n",
    "geometry = '3d'\n",
    "\n",
    "angspread = 1e-5\n",
    "m_proton = 958/0.51\n",
    "Ipeak_kA = 40/1000\n",
    "gamma = 426 * m_proton # Why m_proton?\n",
    "\n",
    "init_beam = make_beam(config,\n",
    "                      xi_distr = Gauss(vmin=-10, vmax=0),\n",
    "                      x_distr  = Gauss(vmin=-7.5, vmax=7.5),\n",
    "                      px_distr = Gauss(sigma=gamma*angspread, vmin=None, vmax=None),\n",
    "                      pz_distr = Gauss(gamma, gamma*1e-4, vmin=None, vmax=None),\n",
    "                      Ipeak_kA = Ipeak_kA, q_m = 1 / m_proton,\n",
    "                      partic_in_layer=1000)\n",
    "\n",
    "np.savez_compressed('beamfile',\n",
    "                    xi = init_beam['xi'].to_numpy(),\n",
    "                    x = init_beam['x'].to_numpy(),\n",
    "                    y = init_beam['y'].to_numpy(),\n",
    "                    p_x = init_beam['px'].to_numpy(),\n",
    "                    p_y = init_beam['py'].to_numpy(),\n",
    "                    p_z = init_beam['pz'].to_numpy(),\n",
    "                    q_m = init_beam['q_m'].to_numpy(),\n",
    "                    q_norm = init_beam['q'].to_numpy(),\n",
    "                    id = init_beam['N'].to_numpy('int'))"
   ]
  },
  {
   "cell_type": "code",
   "execution_count": 4,
   "metadata": {},
   "outputs": [],
   "source": [
    "# Load the beam\n",
    "beam_particles = beam.BeamParticles(0)\n",
    "beam_particles.load('beamfile.npz')\n",
    "beam_calulator = beam.BeamCalculator(config, beam_particles)"
   ]
  },
  {
   "cell_type": "code",
   "execution_count": 5,
   "metadata": {},
   "outputs": [
    {
     "name": "stdout",
     "output_type": "stream",
     "text": [
      "Plasma solver done in +4.2583 s.\tBeam pusher done in +0.0001 s.\n",
      "xi=+0.0000 -6.9874e-06\n",
      "Plasma solver done in +1.8120 s.\tBeam pusher done in +0.6585 s.\n",
      "xi=+0.0200 -2.0891e-05\n",
      "Plasma solver done in +1.2263 s.\tBeam pusher done in +0.1207 s.\n",
      "xi=+0.0400 -3.4627e-05\n",
      "Plasma solver done in +1.2385 s.\tBeam pusher done in +0.1138 s.\n",
      "xi=+0.0600 -4.8211e-05\n",
      "Plasma solver done in +1.2220 s.\tBeam pusher done in +0.1140 s.\n",
      "xi=+0.0800 -6.2070e-05\n",
      "Plasma solver done in +1.2113 s.\tBeam pusher done in +0.1177 s.\n",
      "xi=+0.1000 -7.5685e-05\n",
      "Plasma solver done in +1.2197 s.\tBeam pusher done in +0.1147 s.\n",
      "xi=+0.1200 -8.9506e-05\n",
      "Plasma solver done in +1.2193 s.\tBeam pusher done in +0.1149 s.\n",
      "xi=+0.1400 -1.0310e-04\n",
      "Plasma solver done in +1.2265 s.\tBeam pusher done in +0.1154 s.\n",
      "xi=+0.1600 -1.1643e-04\n",
      "Plasma solver done in +1.2248 s.\tBeam pusher done in +0.1140 s.\n",
      "xi=+0.1800 -1.2990e-04\n",
      "Plasma solver done in +1.2269 s.\tBeam pusher done in +0.1147 s.\n",
      "xi=+0.2000 -1.4272e-04\n",
      "Plasma solver done in +1.2375 s.\tBeam pusher done in +0.1138 s.\n",
      "xi=+0.2200 -1.5554e-04\n",
      "Plasma solver done in +1.2365 s.\tBeam pusher done in +0.1158 s.\n",
      "xi=+0.2400 -1.6824e-04\n",
      "Plasma solver done in +1.2468 s.\tBeam pusher done in +0.1145 s.\n",
      "xi=+0.2600 -1.8084e-04\n",
      "Plasma solver done in +1.2451 s.\tBeam pusher done in +0.1126 s.\n",
      "xi=+0.2800 -1.9357e-04\n",
      "Plasma solver done in +1.2575 s.\tBeam pusher done in +0.1089 s.\n",
      "xi=+0.3000 -2.0634e-04\n",
      "Plasma solver done in +1.2266 s.\tBeam pusher done in +0.1085 s.\n",
      "xi=+0.3200 -2.1922e-04\n",
      "Plasma solver done in +1.2060 s.\tBeam pusher done in +0.1071 s.\n",
      "xi=+0.3400 -2.3151e-04\n",
      "Plasma solver done in +1.2272 s.\tBeam pusher done in +0.1079 s.\n",
      "xi=+0.3600 -2.4364e-04\n",
      "Plasma solver done in +1.2576 s.\tBeam pusher done in +0.1096 s.\n",
      "xi=+0.3800 -2.5570e-04\n",
      "Plasma solver done in +1.2488 s.\tBeam pusher done in +0.1074 s.\n",
      "xi=+0.4000 -2.6738e-04\n",
      "Plasma solver done in +1.1966 s.\tBeam pusher done in +0.1038 s.\n",
      "xi=+0.4200 -2.7855e-04\n",
      "Plasma solver done in +1.2181 s.\tBeam pusher done in +0.1035 s.\n",
      "xi=+0.4400 -2.8972e-04\n",
      "Plasma solver done in +1.2224 s.\tBeam pusher done in +0.1067 s.\n",
      "xi=+0.4600 -3.0033e-04\n",
      "Plasma solver done in +1.2635 s.\tBeam pusher done in +0.1053 s.\n",
      "xi=+0.4800 -3.1110e-04\n",
      "Plasma solver done in +1.2614 s.\tBeam pusher done in +0.1076 s.\n",
      "xi=+0.5000 -3.2188e-04\n",
      "Plasma solver done in +1.2623 s.\tBeam pusher done in +0.1015 s.\n",
      "xi=+0.5200 -3.3206e-04\n",
      "Plasma solver done in +1.2901 s.\tBeam pusher done in +0.1065 s.\n",
      "xi=+0.5400 -3.4161e-04\n"
     ]
    },
    {
     "ename": "KeyboardInterrupt",
     "evalue": "",
     "output_type": "error",
     "traceback": [
      "\u001b[0;31m---------------------------------------------------------------------------\u001b[0m",
      "\u001b[0;31mKeyboardInterrupt\u001b[0m                         Traceback (most recent call last)",
      "\u001b[0;32m<ipython-input-5-7855d0be3c8c>\u001b[0m in \u001b[0;36m<module>\u001b[0;34m\u001b[0m\n\u001b[1;32m      9\u001b[0m \u001b[0;34m\u001b[0m\u001b[0m\n\u001b[1;32m     10\u001b[0m     pusher_solver.step_dt(pl_fields, pl_particles, pl_currents, pl_const_arrays,\n\u001b[0;32m---> 11\u001b[0;31m                           beam_particles, beam_calulator)\n\u001b[0m\u001b[1;32m     12\u001b[0m \u001b[0;34m\u001b[0m\u001b[0m\n\u001b[1;32m     13\u001b[0m \u001b[0mprint\u001b[0m\u001b[0;34m(\u001b[0m\u001b[0;34m\"--- %s seconds ---\"\u001b[0m \u001b[0;34m%\u001b[0m \u001b[0;34m(\u001b[0m\u001b[0mtime\u001b[0m\u001b[0;34m.\u001b[0m\u001b[0mtime\u001b[0m\u001b[0;34m(\u001b[0m\u001b[0;34m)\u001b[0m \u001b[0;34m-\u001b[0m \u001b[0mstart_time\u001b[0m\u001b[0;34m)\u001b[0m\u001b[0;34m)\u001b[0m\u001b[0;34m\u001b[0m\u001b[0;34m\u001b[0m\u001b[0m\n",
      "\u001b[0;32m~/Desktop/lcode/lcode_merging/lcode2dPy/lcode2dPy/push_solver_3d.py\u001b[0m in \u001b[0;36mstep_dt\u001b[0;34m(self, pl_fields, pl_particles, pl_currents, pl_const_arrays, beam_source, beam_calculator)\u001b[0m\n\u001b[1;32m     32\u001b[0m             \u001b[0mtime1\u001b[0m \u001b[0;34m=\u001b[0m \u001b[0mtime\u001b[0m\u001b[0;34m.\u001b[0m\u001b[0mtime\u001b[0m\u001b[0;34m(\u001b[0m\u001b[0;34m)\u001b[0m\u001b[0;34m\u001b[0m\u001b[0;34m\u001b[0m\u001b[0m\n\u001b[1;32m     33\u001b[0m             pl_particles, pl_fields, pl_currents = self.pl_solver.step_dxi(\n\u001b[0;32m---> 34\u001b[0;31m                 pl_particles, pl_fields, pl_currents, pl_const_arrays, beam_ro)\n\u001b[0m\u001b[1;32m     35\u001b[0m             \u001b[0mtime2\u001b[0m \u001b[0;34m=\u001b[0m \u001b[0mtime\u001b[0m\u001b[0;34m.\u001b[0m\u001b[0mtime\u001b[0m\u001b[0;34m(\u001b[0m\u001b[0;34m)\u001b[0m\u001b[0;34m\u001b[0m\u001b[0;34m\u001b[0m\u001b[0m\n\u001b[1;32m     36\u001b[0m \u001b[0;34m\u001b[0m\u001b[0m\n",
      "\u001b[0;32m~/Desktop/lcode/lcode_merging/lcode2dPy/lcode2dPy/plasma3d/solver.py\u001b[0m in \u001b[0;36mstep_dxi\u001b[0;34m(self, particles_prev, fields_prev, currents_prev, const_arrays, rho_beam)\u001b[0m\n\u001b[1;32m     20\u001b[0m \u001b[0;34m\u001b[0m\u001b[0m\n\u001b[1;32m     21\u001b[0m         particles = self.PMover.move_particles(fields_prev,\n\u001b[0;32m---> 22\u001b[0;31m                                                particles_prev, particles)\n\u001b[0m\u001b[1;32m     23\u001b[0m         \u001b[0mcurrents\u001b[0m \u001b[0;34m=\u001b[0m \u001b[0mself\u001b[0m\u001b[0;34m.\u001b[0m\u001b[0mCComputer\u001b[0m\u001b[0;34m.\u001b[0m\u001b[0mcompute_rhoj\u001b[0m\u001b[0;34m(\u001b[0m\u001b[0mparticles\u001b[0m\u001b[0;34m,\u001b[0m \u001b[0mconst_arrays\u001b[0m\u001b[0;34m)\u001b[0m\u001b[0;34m\u001b[0m\u001b[0;34m\u001b[0m\u001b[0m\n\u001b[1;32m     24\u001b[0m \u001b[0;34m\u001b[0m\u001b[0m\n",
      "\u001b[0;32m~/Desktop/lcode/lcode_merging/lcode2dPy/lcode2dPy/plasma3d/move.py\u001b[0m in \u001b[0;36mmove_particles\u001b[0;34m(self, fields, particles, estimated_particles)\u001b[0m\n\u001b[1;32m    252\u001b[0m         return move_smart(self.xi_step, self.reflect_boundary,\n\u001b[1;32m    253\u001b[0m                           \u001b[0mself\u001b[0m\u001b[0;34m.\u001b[0m\u001b[0mgrid_step_size\u001b[0m\u001b[0;34m,\u001b[0m \u001b[0mself\u001b[0m\u001b[0;34m.\u001b[0m\u001b[0mgrid_steps\u001b[0m\u001b[0;34m,\u001b[0m\u001b[0;34m\u001b[0m\u001b[0;34m\u001b[0m\u001b[0m\n\u001b[0;32m--> 254\u001b[0;31m                           particles, estimated_particles, fields)\n\u001b[0m\u001b[1;32m    255\u001b[0m \u001b[0;34m\u001b[0m\u001b[0m\n\u001b[1;32m    256\u001b[0m     \u001b[0;32mdef\u001b[0m \u001b[0mmove_particles_wo_fields\u001b[0m\u001b[0;34m(\u001b[0m\u001b[0mself\u001b[0m\u001b[0;34m,\u001b[0m \u001b[0mparticles\u001b[0m\u001b[0;34m)\u001b[0m\u001b[0;34m:\u001b[0m\u001b[0;34m\u001b[0m\u001b[0;34m\u001b[0m\u001b[0m\n",
      "\u001b[0;32m~/Desktop/lcode/lcode_merging/lcode2dPy/lcode2dPy/plasma3d/move.py\u001b[0m in \u001b[0;36mmove_smart\u001b[0;34m(xi_step, reflect_boundary, grid_step_size, grid_steps, particles, estimated_particles, fields)\u001b[0m\n\u001b[1;32m    207\u001b[0m \u001b[0;34m\u001b[0m\u001b[0m\n\u001b[1;32m    208\u001b[0m     return Particles(x_init, y_init, x_offt_new, y_offt_new,\n\u001b[0;32m--> 209\u001b[0;31m                      px_new, py_new, pz_new, q, m)\n\u001b[0m\u001b[1;32m    210\u001b[0m     \u001b[0;31m# I don't like how it looks. TODO: write a new method for Particles class\u001b[0m\u001b[0;34m\u001b[0m\u001b[0;34m\u001b[0m\u001b[0;34m\u001b[0m\u001b[0m\n\u001b[1;32m    211\u001b[0m     \u001b[0;31m# or somehow use Particles.copy().\u001b[0m\u001b[0;34m\u001b[0m\u001b[0;34m\u001b[0m\u001b[0;34m\u001b[0m\u001b[0m\n",
      "\u001b[0;32m~/anaconda3/lib/python3.7/site-packages/numba/jitclass/base.py\u001b[0m in \u001b[0;36m__call__\u001b[0;34m(cls, *args, **kwargs)\u001b[0m\n\u001b[1;32m    124\u001b[0m         \u001b[0mbind\u001b[0m \u001b[0;34m=\u001b[0m \u001b[0mcls\u001b[0m\u001b[0;34m.\u001b[0m\u001b[0m_ctor_sig\u001b[0m\u001b[0;34m.\u001b[0m\u001b[0mbind\u001b[0m\u001b[0;34m(\u001b[0m\u001b[0;32mNone\u001b[0m\u001b[0;34m,\u001b[0m \u001b[0;34m*\u001b[0m\u001b[0margs\u001b[0m\u001b[0;34m,\u001b[0m \u001b[0;34m**\u001b[0m\u001b[0mkwargs\u001b[0m\u001b[0;34m)\u001b[0m\u001b[0;34m\u001b[0m\u001b[0;34m\u001b[0m\u001b[0m\n\u001b[1;32m    125\u001b[0m         \u001b[0mbind\u001b[0m\u001b[0;34m.\u001b[0m\u001b[0mapply_defaults\u001b[0m\u001b[0;34m(\u001b[0m\u001b[0;34m)\u001b[0m\u001b[0;34m\u001b[0m\u001b[0;34m\u001b[0m\u001b[0m\n\u001b[0;32m--> 126\u001b[0;31m         \u001b[0;32mreturn\u001b[0m \u001b[0mcls\u001b[0m\u001b[0;34m.\u001b[0m\u001b[0m_ctor\u001b[0m\u001b[0;34m(\u001b[0m\u001b[0;34m*\u001b[0m\u001b[0mbind\u001b[0m\u001b[0;34m.\u001b[0m\u001b[0margs\u001b[0m\u001b[0;34m[\u001b[0m\u001b[0;36m1\u001b[0m\u001b[0;34m:\u001b[0m\u001b[0;34m]\u001b[0m\u001b[0;34m,\u001b[0m \u001b[0;34m**\u001b[0m\u001b[0mbind\u001b[0m\u001b[0;34m.\u001b[0m\u001b[0mkwargs\u001b[0m\u001b[0;34m)\u001b[0m\u001b[0;34m\u001b[0m\u001b[0;34m\u001b[0m\u001b[0m\n\u001b[0m\u001b[1;32m    127\u001b[0m \u001b[0;34m\u001b[0m\u001b[0m\n\u001b[1;32m    128\u001b[0m \u001b[0;34m\u001b[0m\u001b[0m\n",
      "\u001b[0;31mKeyboardInterrupt\u001b[0m: "
     ]
    }
   ],
   "source": [
    "# Simulation loop\n",
    "start_time = time.time()\n",
    "time_limit = config.getfloat('time-limit')\n",
    "time_step_size = config.getfloat('time-step')\n",
    "time_steps = int(time_limit / time_step_size)\n",
    "\n",
    "for t_i in range(time_steps + 1):\n",
    "    pl_fields, pl_particles, pl_currents, pl_const_arrays = init_plasma(config)\n",
    "\n",
    "    pusher_solver.step_dt(pl_fields, pl_particles, pl_currents, pl_const_arrays,\n",
    "                          beam_particles, beam_calulator)\n",
    "\n",
    "print(\"--- %s seconds ---\" % (time.time() - start_time))"
   ]
  },
  {
   "cell_type": "code",
   "execution_count": null,
   "metadata": {},
   "outputs": [],
   "source": []
  }
 ],
 "metadata": {
  "interpreter": {
   "hash": "3fb5458fe45dbfab5b841dcbb1c7b4cb9cdead0fb08c7a1d7836db16a68cca46"
  },
  "kernelspec": {
   "display_name": "Python 3.8.8 64-bit ('base': conda)",
   "name": "python3"
  },
  "language_info": {
   "codemirror_mode": {
    "name": "ipython",
    "version": 3
   },
   "file_extension": ".py",
   "mimetype": "text/x-python",
   "name": "python",
   "nbconvert_exporter": "python",
   "pygments_lexer": "ipython3",
   "version": "3.8.8"
  },
  "orig_nbformat": 2
 },
 "nbformat": 4,
 "nbformat_minor": 2
}
